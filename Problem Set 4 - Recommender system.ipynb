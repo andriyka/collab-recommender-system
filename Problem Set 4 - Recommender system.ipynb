{
 "cells": [
  {
   "cell_type": "markdown",
   "metadata": {},
   "source": [
    "# Recommender system"
   ]
  },
  {
   "cell_type": "code",
   "execution_count": 1,
   "metadata": {},
   "outputs": [],
   "source": [
    "import csv\n",
    "import numpy as np\n",
    "from scipy.sparse import lil_matrix"
   ]
  },
  {
   "cell_type": "markdown",
   "metadata": {},
   "source": [
    "### Data loader\n",
    "\n",
    "Loading the data and representing it as a sparce utility matrix (review_data).\n",
    "\n",
    "Note that indeces in the dataset are not sequential. That is why we create a separate functiona for translating dataset indeces into unitily matrix (review_data) indeces and back."
   ]
  },
  {
   "cell_type": "code",
   "execution_count": 2,
   "metadata": {},
   "outputs": [],
   "source": [
    "users_index = []\n",
    "movies_index = []\n",
    "\n",
    "num_users_processed = 0\n",
    "num_movies_processed = 0\n",
    "\n",
    "def get_user_index(dataset_user_id):\n",
    "    global num_users_processed\n",
    "    global users_index\n",
    "    if dataset_user_id not in users_index:\n",
    "        users_index.append(dataset_user_id)\n",
    "        num_users_processed += 1\n",
    "    return users_index.index(dataset_user_id)\n",
    "\n",
    "def get_movie_index(dataset_movie_id):\n",
    "    global num_movies_processed\n",
    "    global movies_index\n",
    "    if dataset_movie_id not in movies_index:\n",
    "        movies_index.append(dataset_movie_id)\n",
    "        num_movies_processed += 1\n",
    "    return movies_index.index(dataset_movie_id)"
   ]
  },
  {
   "cell_type": "code",
   "execution_count": 3,
   "metadata": {},
   "outputs": [
    {
     "name": "stdout",
     "output_type": "stream",
     "text": [
      "Processed  10000 records out of 100k.\n",
      "Processed  20000 records out of 100k.\n",
      "Processed  30000 records out of 100k.\n",
      "Processed  40000 records out of 100k.\n",
      "Processed  50000 records out of 100k.\n",
      "Processed  60000 records out of 100k.\n",
      "Processed  70000 records out of 100k.\n",
      "Processed  80000 records out of 100k.\n",
      "Processed  90000 records out of 100k.\n",
      "Processed  100000 records out of 100k.\n"
     ]
    }
   ],
   "source": [
    "num_movies = 9125\n",
    "num_users = 671\n",
    "\n",
    "review_data = lil_matrix((num_users, num_movies))\n",
    "\n",
    "data_file = 'ratings.csv' \n",
    "\n",
    "with open(data_file) as ratings_file:\n",
    "    rating_reader = csv.reader(ratings_file, delimiter=',')\n",
    "    next(rating_reader)\n",
    "    iter = 0\n",
    "\n",
    "    for record in rating_reader:\n",
    "        user_id, movie_id, rating, _ = record\n",
    "        user_id = get_user_index(int(user_id))\n",
    "        movie_id = get_movie_index(int(movie_id))\n",
    "        rating = float(rating)\n",
    "        review_data[user_id, movie_id] = rating\n",
    "        iter += 1\n",
    "        if iter % 10000 == 0: print('Processed ', iter, 'records out of 100k.')"
   ]
  },
  {
   "cell_type": "code",
   "execution_count": 4,
   "metadata": {},
   "outputs": [],
   "source": [
    "movies = {}\n",
    "\n",
    "data_file = 'movies.csv' \n",
    "\n",
    "with open(data_file) as movie_file:\n",
    "    movie_reader = csv.reader(movie_file, delimiter=',')\n",
    "    next(movie_reader)\n",
    "    for record in movie_reader:\n",
    "        movie_id, title, _ = record\n",
    "        movies[int(movie_id)] = title"
   ]
  },
  {
   "cell_type": "code",
   "execution_count": 5,
   "metadata": {},
   "outputs": [],
   "source": [
    "def get_movie_name_by_id(id):\n",
    "    dataset_movie_id = movies_index[id]\n",
    "    return movies[dataset_movie_id]\n",
    "\n",
    "def get_movie_id_by_name(movie_name):\n",
    "    movie_data_id = int(list(movies.keys())[list(movies.values()).index(movie_name)])\n",
    "    return movies_index.index(movie_data_id)"
   ]
  },
  {
   "cell_type": "code",
   "execution_count": 6,
   "metadata": {},
   "outputs": [
    {
     "name": "stdout",
     "output_type": "stream",
     "text": [
      "402\n"
     ]
    }
   ],
   "source": [
    "print(get_movie_id_by_name('Matrix, The (1999)'))"
   ]
  },
  {
   "cell_type": "markdown",
   "metadata": {},
   "source": [
    "### Item-item collaborative filtering\n",
    "\n",
    "Computing item-item collaborative filtering from the utility matrix (review_data). The output of your computation should be pairwise similarities between all movies.\n"
   ]
  },
  {
   "cell_type": "code",
   "execution_count": 7,
   "metadata": {},
   "outputs": [],
   "source": [
    "from scipy.sparse.linalg import norm\n",
    "\n",
    "def cosine_similarity(m):\n",
    "    mm = np.dot(m.T, m)\n",
    "    mm_norm = norm(m, axis=0)\n",
    "    mm_norm = np.dot(mm_norm.reshape((-1,1)), mm_norm.reshape((1, -1)))\n",
    "    \n",
    "    # now we could divide two matrices \n",
    "    # to avoid division by z, we could skip all zero elements \n",
    "    # as the matrices are identical\n",
    "    # https://stackoverflow.com/questions/26248654/numpy-return-0-with-divide-by-zero\n",
    "    \n",
    "    return np.divide(mm.todense(), mm_norm, out=np.zeros(mm.shape), where=mm_norm!=0)\n",
    "    \n",
    "similarity = cosine_similarity(review_data)"
   ]
  },
  {
   "cell_type": "markdown",
   "metadata": {},
   "source": [
    "### Finding most similar movies\n",
    "\n",
    "Using the item-item similarity, finding 5 movies you would recommend the someone who likes the following:\n",
    "- Matrix, The (1999)\n",
    "- Toy Story (1995)\n",
    "- From Dusk Till Dawn (1996)\n",
    "- Gone with the Wind (1939)\n",
    "- Iron Man (2008)"
   ]
  },
  {
   "cell_type": "code",
   "execution_count": 10,
   "metadata": {},
   "outputs": [
    {
     "name": "stdout",
     "output_type": "stream",
     "text": [
      "Movie:From Dusk Till Dawn (1996) \n",
      " Similar:\n",
      "   Nightmare on Elm Street, A (1984),\n",
      "   Sleepy Hollow (1999),\n",
      "   Batman Returns (1992),\n",
      "   Candyman (1992),\n",
      "   Alien³ (a.k.a. Alien 3) (1992)\n",
      "\n",
      "Movie:Matrix, The (1999) \n",
      " Similar:\n",
      "   Lord of the Rings: The Fellowship of the Ring, The (2001),\n",
      "   Lord of the Rings: The Two Towers, The (2002),\n",
      "   Fight Club (1999),\n",
      "   Back to the Future (1985),\n",
      "   Lord of the Rings: The Return of the King, The (2003)\n",
      "\n",
      "Movie:Iron Man (2008) \n",
      " Similar:\n",
      "   Dark Knight, The (2008),\n",
      "   Star Trek (2009),\n",
      "   Batman Begins (2005),\n",
      "   Avatar (2009),\n",
      "   Avengers, The (2012)\n",
      "\n",
      "Movie:Toy Story (1995) \n",
      " Similar:\n",
      "   Toy Story 2 (1999),\n",
      "   Star Wars: Episode IV - A New Hope (1977),\n",
      "   Forrest Gump (1994),\n",
      "   Independence Day (a.k.a. ID4) (1996),\n",
      "   Groundhog Day (1993)\n",
      "\n",
      "Movie:Gone with the Wind (1939) \n",
      " Similar:\n",
      "   Casablanca (1942),\n",
      "   It's a Wonderful Life (1946),\n",
      "   Wizard of Oz, The (1939),\n",
      "   African Queen, The (1951),\n",
      "   North by Northwest (1959)\n",
      "\n"
     ]
    }
   ],
   "source": [
    "movie_ids = dict()\n",
    "movie_names = ['Matrix, The (1999)',\n",
    "               'Toy Story (1995)',\n",
    "               'From Dusk Till Dawn (1996)',\n",
    "               'Gone with the Wind (1939)',\n",
    "               'Iron Man (2008)']\n",
    "\n",
    "for movie_name in movie_names:\n",
    "    movie_ids[movie_name] = get_movie_id_by_name(movie_name)\n",
    "\n",
    "num_of_similar = 5\n",
    "\n",
    "recommended = {}\n",
    "\n",
    "for (m_name, m_id) in movie_ids.items():\n",
    "    most_similar = reversed(similarity[m_id].argsort()[-(num_of_similar + 1):-1])\n",
    "    recommended[m_name] = [get_movie_name_by_id(s_id) for s_id in most_similar]\n",
    "\n",
    "for m, rec in recommended.items():\n",
    "    print('Movie:{} \\n Similar:\\n   {}'.format(m, ',\\n   '.join(rec)))\n",
    "    print()"
   ]
  }
 ],
 "metadata": {
  "kernelspec": {
   "display_name": "Python 3",
   "language": "python",
   "name": "python3"
  },
  "language_info": {
   "codemirror_mode": {
    "name": "ipython",
    "version": 3
   },
   "file_extension": ".py",
   "mimetype": "text/x-python",
   "name": "python",
   "nbconvert_exporter": "python",
   "pygments_lexer": "ipython3",
   "version": "3.5.2"
  }
 },
 "nbformat": 4,
 "nbformat_minor": 2
}
